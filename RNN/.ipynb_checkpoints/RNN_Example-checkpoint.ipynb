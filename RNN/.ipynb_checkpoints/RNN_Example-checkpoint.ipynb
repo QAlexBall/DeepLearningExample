{
 "cells": [
  {
   "cell_type": "markdown",
   "metadata": {},
   "source": [
    "# 自然语言建模\n",
    "简单的说,语言模型的目的就是为了计算一个句子的出现概率.\n",
    "在这里把句子看成是单词的序列,于是语言模型需要计算的就是**p(w1, w2, w3, ..., wm)**.\n",
    "利用语言模型,可以确定那个单词序列出现的可能性大,或者给定若干个单词,预测下一个最可能出现的词语."
   ]
  },
  {
   "cell_type": "markdown",
   "metadata": {},
   "source": [
    "## 如何计算一个句子的概率?\n",
    "* 首先一个句子可被看成一个单词序列\n",
    "- S = (w1, w2, w3, ..., wm)\n",
    "* 其中m为句子长度,那么它的概率可以表示为:\n",
    "- P(S) = p(w1, w2, w3, ..., wm) = p(w1)p(w2|w1)p(w3|w1, w2)...p(wm|w1, w2, ..., w(m-1))"
   ]
  },
  {
   "cell_type": "code",
   "execution_count": 14,
   "metadata": {},
   "outputs": [
    {
     "data": {
      "text/plain": [
       "929589"
      ]
     },
     "execution_count": 14,
     "metadata": {},
     "output_type": "execute_result"
    }
   ],
   "source": [
    "import tensorflow as tf\n",
    "import reader\n",
    "# 存放原始数据的路径\n",
    "DATA_PATH = \"../data/data_RNN_SimpleExample/\"\n",
    "train_data, valid_data, test_data, _ = reader.ptb_raw_data(DATA_PATH)\n",
    "len(train_data)"
   ]
  },
  {
   "cell_type": "markdown",
   "metadata": {},
   "source": [
    "** 从github上下载了tensorflow的models模块,复制models下的reader.py到此文件的同级目录**"
   ]
  },
  {
   "cell_type": "code",
   "execution_count": 32,
   "metadata": {},
   "outputs": [
    {
     "data": {
      "text/plain": [
       "[9970, 9971, 9972, 9974, 9975, 9976, 9980, 9981, 9982, 9983]"
      ]
     },
     "execution_count": 32,
     "metadata": {},
     "output_type": "execute_result"
    }
   ],
   "source": [
    "train_data[:10]"
   ]
  },
  {
   "cell_type": "markdown",
   "metadata": {},
   "source": [
    "* 从输出中可以看到训练数据中总共包含了929589个单词,而这些单词被组成了一个非常长的序列\n",
    "* 这个序列通过特殊的标识符给出了每句话结束的位置,在这个数据集中,句子结束的标识符id为2"
   ]
  },
  {
   "cell_type": "markdown",
   "metadata": {},
   "source": [
    "**虽然循环神经网络可以接受任意长度的序列,但是在训练时需要将序列按照某个固定的长度来截断.**"
   ]
  },
  {
   "cell_type": "code",
   "execution_count": 35,
   "metadata": {},
   "outputs": [
    {
     "name": "stdout",
     "output_type": "stream",
     "text": [
      "x: [[9970 9971 9972 9974 9975]\n",
      " [ 332 7147  328 1452 8595]\n",
      " [1969    0   98   89 2254]\n",
      " [   3    3    2   14   24]]\n",
      "y: [[9971 9972 9974 9975 9976]\n",
      " [7147  328 1452 8595   59]\n",
      " [   0   98   89 2254    0]\n",
      " [   3    2   14   24  198]]\n",
      "x: [[9976 9980 9981 9982 9983]\n",
      " [  59 1569  105 2231    1]\n",
      " [   0  312 1641    4 1063]\n",
      " [ 198  150 2262   10    0]]\n",
      "y: [[9980 9981 9982 9983 9984]\n",
      " [1569  105 2231    1  895]\n",
      " [ 312 1641    4 1063    8]\n",
      " [ 150 2262   10    0  507]]\n"
     ]
    }
   ],
   "source": [
    "# 将训练数据组织成batch大小为4,截断长度为5的数据组\n",
    "result = reader.ptb_producer(train_data, 4, 5)\n",
    "with tf.Session() as sess:\n",
    "    tf.global_variables_initializer().run()\n",
    "\n",
    "    # 开启多线程\n",
    "    coord = tf.train.Coordinator()\n",
    "    threads = tf.train.start_queue_runners(coord=coord)\n",
    "\n",
    "    # 读取前两个batch，其中包括每个时刻的输入和对应的答案，ptb_producer()会自动迭代\n",
    "    for i in range(2):\n",
    "        x, y = sess.run(batch)\n",
    "        print('x:', x)\n",
    "        print('y:', y)\n",
    "\n",
    "    # 关闭多线程\n",
    "    coord.request_stop()\n",
    "    coord.join(threads)"
   ]
  },
  {
   "cell_type": "code",
   "execution_count": 37,
   "metadata": {
    "collapsed": true
   },
   "outputs": [],
   "source": [
    "import numpy as np \n",
    "import tensorflow as tf\n",
    "import reader"
   ]
  },
  {
   "cell_type": "code",
   "execution_count": 40,
   "metadata": {
    "collapsed": true
   },
   "outputs": [],
   "source": [
    "DATA_PATH = \"../data/data_RNN_SimpleExample/\"\n",
    "HIDDEN_SIZE = 200\n",
    "NUM_LAYERS = 2         # 深层循环神经网络中LSTM结构的层数\n",
    "VOCAB_SIZE = 10000     # 词典规模,加上语句结束标识符和稀有单词标识符总共10000单词.\n",
    "LEARNING_RATE =  1.0\n",
    "TRAIN_BATCH_SIZE = 20  # 训练数据batch的大小\n",
    "TRAIN_NUM_STEP = 35    # 训练数据截断长度\n",
    "\n",
    "# 在测试时不需要使用截断,所以可以将测试数据看成一个超长的序列\n",
    "EVAL_BATCH_SIZE = 1\n",
    "EVAL_NUM_STEP = 1\n",
    "NUM_EPOCH = 2\n",
    "KEEP_PROB = 0.5\n",
    "MAX_GRAD_NORM = 5"
   ]
  },
  {
   "cell_type": "code",
   "execution_count": null,
   "metadata": {
    "collapsed": true
   },
   "outputs": [],
   "source": [
    "# 通过一个PTBModel类来描述模型,这样方便维护循环神经网络中的状态\n",
    "class PTBModel(object):\n",
    "    def __init__(self, is_training, batch_size)"
   ]
  }
 ],
 "metadata": {
  "kernelspec": {
   "display_name": "Python 3",
   "language": "python",
   "name": "python3"
  },
  "language_info": {
   "codemirror_mode": {
    "name": "ipython",
    "version": 3
   },
   "file_extension": ".py",
   "mimetype": "text/x-python",
   "name": "python",
   "nbconvert_exporter": "python",
   "pygments_lexer": "ipython3",
   "version": "3.6.3"
  }
 },
 "nbformat": 4,
 "nbformat_minor": 2
}
