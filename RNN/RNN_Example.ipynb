{
 "cells": [
  {
   "cell_type": "markdown",
   "metadata": {},
   "source": [
    "# 自然语言建模\n",
    "简单的说,语言模型的目的就是为了计算一个句子的出现概率.\n",
    "在这里把句子看成是单词的序列,于是语言模型需要计算的就是**p(w1, w2, w3, ..., wm)**.\n",
    "利用语言模型,可以确定那个单词序列出现的可能性大,或者给定若干个单词,预测下一个最可能出现的词语."
   ]
  },
  {
   "cell_type": "markdown",
   "metadata": {},
   "source": [
    "## 如何计算一个句子的概率?\n",
    "* 首先一个句子可被看成一个单词序列\n",
    "- S = (w1, w2, w3, ..., wm)\n",
    "* 其中m为句子长度,那么它的概率可以表示为:\n",
    "- P(S) = p(w1, w2, w3, ..., wm) = p(w1)p(w2|w1)p(w3|w1, w2)...p(wm|w1, w2, ..., w(m-1))"
   ]
  },
  {
   "cell_type": "code",
   "execution_count": 31,
   "metadata": {},
   "outputs": [
    {
     "data": {
      "text/plain": [
       "929589"
      ]
     },
     "execution_count": 31,
     "metadata": {},
     "output_type": "execute_result"
    }
   ],
   "source": [
    "import tensorflow as tf\n",
    "import reader\n",
    "# 存放原始数据的路径\n",
    "DATA_PATH = \"./data/\"\n",
    "train_data, valid_data, test_data, _ = reader.ptb_raw_data(DATA_PATH)\n",
    "len(train_data)"
   ]
  },
  {
   "cell_type": "markdown",
   "metadata": {},
   "source": [
    "** 从github上下载了tensorflow的models模块,复制models下的reader.py到此文件的同级目录**"
   ]
  },
  {
   "cell_type": "code",
   "execution_count": 30,
   "metadata": {},
   "outputs": [
    {
     "data": {
      "text/plain": [
       "[9970, 9971, 9972, 9974, 9975, 9976, 9980, 9981, 9982, 9983]"
      ]
     },
     "execution_count": 30,
     "metadata": {},
     "output_type": "execute_result"
    }
   ],
   "source": [
    "train_data[:10]"
   ]
  },
  {
   "cell_type": "markdown",
   "metadata": {},
   "source": [
    "* 从输出中可以看到训练数据中总共包含了929589个单词,而这些单词被组成了一个非常长的序列\n",
    "* 这个序列通过特殊的标识符给出了每句话结束的位置,在这个数据集中,句子结束的标识符id为2"
   ]
  },
  {
   "cell_type": "markdown",
   "metadata": {},
   "source": [
    "**虽然循环神经网络可以接受任意长度的序列,但是在训练时需要将序列按照某个固定的长度来截断.**"
   ]
  },
  {
   "cell_type": "code",
   "execution_count": null,
   "metadata": {
    "collapsed": true
   },
   "outputs": [],
   "source": []
  }
 ],
 "metadata": {
  "kernelspec": {
   "display_name": "Python 3",
   "language": "python",
   "name": "python3"
  },
  "language_info": {
   "codemirror_mode": {
    "name": "ipython",
    "version": 3
   },
   "file_extension": ".py",
   "mimetype": "text/x-python",
   "name": "python",
   "nbconvert_exporter": "python",
   "pygments_lexer": "ipython3",
   "version": "3.6.3"
  }
 },
 "nbformat": 4,
 "nbformat_minor": 2
}
